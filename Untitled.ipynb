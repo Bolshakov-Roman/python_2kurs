{
 "cells": [
  {
   "cell_type": "markdown",
   "id": "280d2755",
   "metadata": {},
   "source": [
    "# first lab"
   ]
  },
  {
   "cell_type": "code",
   "execution_count": null,
   "id": "297a8cef",
   "metadata": {},
   "outputs": [],
   "source": [
    "print(\"Мухаметзянов Роман\")\n",
    "print(\"ronaldin999@mail.ru\")\n"
   ]
  },
  {
   "cell_type": "code",
   "execution_count": 2,
   "id": "df154b3d",
   "metadata": {},
   "outputs": [
    {
     "name": "stdout",
     "output_type": "stream",
     "text": [
      "Enter length12\n",
      "Enter width32\n",
      "room area = 384.0\n"
     ]
    }
   ],
   "source": [
    "length = float(input(\"Enter length\"))\n",
    "width = float(input(\"Enter width\"))\n",
    "area = width * length\n",
    "print(\"room area =\", area)"
   ]
  },
  {
   "cell_type": "code",
   "execution_count": 1,
   "id": "6812ba14",
   "metadata": {},
   "outputs": [
    {
     "name": "stdout",
     "output_type": "stream",
     "text": [
      "enter the number of small bottles123\n",
      "enter the number of big bottles33\n",
      "Ur money= $20.55.\n"
     ]
    }
   ],
   "source": [
    "small = 0.10\n",
    "big = 0.25\n",
    "small_bottle = float(input(\"enter the number of small bottles\"))\n",
    "big_bottle = float(input(\"enter the number of big bottles\"))\n",
    "summ = small * small_bottle + big * big_bottle\n",
    "print(\"Ur money= $%.2f.\" % summ)"
   ]
  },
  {
   "cell_type": "code",
   "execution_count": 1,
   "id": "bafe5ae7",
   "metadata": {},
   "outputs": [
    {
     "name": "stdout",
     "output_type": "stream",
     "text": [
      "Enter number12\n",
      "Summa =  78.0\n"
     ]
    }
   ],
   "source": [
    "n = int(input(\"Enter number\"))\n",
    "summa = (n * (n+1)) / 2\n",
    "print(\"Summa = \", summa)"
   ]
  },
  {
   "cell_type": "code",
   "execution_count": 3,
   "id": "2b1aa572",
   "metadata": {},
   "outputs": [
    {
     "name": "stdout",
     "output_type": "stream",
     "text": [
      "vvedite vznos141414\n",
      "first year= $147070.56   second year= $152953.38  third year= $159071.52  \n"
     ]
    }
   ],
   "source": [
    "pervy_vznos = int(input(\"vvedite vznos\"))\n",
    "first_year = pervy_vznos * 1.04\n",
    "second_year = first_year * 1.04\n",
    "third_year = second_year * 1.04\n",
    "print(\"first year= $%.2f   second year= $%.2f  third year= $%.2f  \" %(first_year, second_year, third_year))"
   ]
  },
  {
   "cell_type": "code",
   "execution_count": 6,
   "id": "68ebf369",
   "metadata": {},
   "outputs": [
    {
     "name": "stdout",
     "output_type": "stream",
     "text": [
      "enter GAL12\n",
      "enter MIL6\n",
      "v Kanadskyh edinicah budet = 4.725\n"
     ]
    }
   ],
   "source": [
    "a = float(input(\"enter GAL\"))\n",
    "b = float(input(\"enter MIL\"))\n",
    "liters = a * 3.78\n",
    "kilometr = b * 1.6\n",
    "otvet = liters / kilometr\n",
    "print(\"v Kanadskyh edinicah budet =\", otvet)"
   ]
  },
  {
   "cell_type": "code",
   "execution_count": 11,
   "id": "9a30262c",
   "metadata": {},
   "outputs": [
    {
     "name": "stdout",
     "output_type": "stream",
     "text": [
      "Enter sum:123213\n",
      "  616 2 dollars monet\n",
      "  0 1 dollars montet\n",
      "  0 25 cents monet\n",
      "  1 10 cents monet\n",
      "  0 5 cents monet\n",
      "  3 Cents\n"
     ]
    }
   ],
   "source": [
    "Cents_200 = 200\n",
    "Cents_100 = 100\n",
    "Cents_25 = 25\n",
    "Cents_10 = 10\n",
    "Cents_5 = 5\n",
    "\n",
    "cents = int(input(\"Enter sum:\"))\n",
    "\n",
    "print(\" \", cents // Cents_200, \"2 dollars monet\")\n",
    "cents = cents % Cents_200\n",
    "\n",
    "print(\" \", cents // Cents_100, \"1 dollars montet\")\n",
    "cents = cents % Cents_100\n",
    "\n",
    "print(\" \", cents // Cents_25, \"25 cents monet\")\n",
    "cents = cents % Cents_25\n",
    "\n",
    "print(\" \", cents // Cents_10, \"10 cents monet\")\n",
    "cents = cents % Cents_10\n",
    "\n",
    "print(\" \", cents // Cents_5, \"5 cents monet\")\n",
    "cents = cents % Cents_5\n",
    "\n",
    "print(\" \", cents, \"Cents\")"
   ]
  },
  {
   "cell_type": "markdown",
   "id": "dad04691",
   "metadata": {},
   "source": [
    "# SECOND LAB"
   ]
  },
  {
   "cell_type": "code",
   "execution_count": 2,
   "id": "83bc8386",
   "metadata": {},
   "outputs": [
    {
     "name": "stdout",
     "output_type": "stream",
     "text": [
      "Emter number: 12\n",
      "12 even number\n"
     ]
    }
   ],
   "source": [
    "number = int(input(\"Emter number: \"))\n",
    "if number % 2 == 1:\n",
    "    print(number, \"odd number\")\n",
    "else:\n",
    "    print(number, \"even number\")"
   ]
  },
  {
   "cell_type": "code",
   "execution_count": null,
   "id": "aacf464f",
   "metadata": {},
   "outputs": [],
   "source": []
  }
 ],
 "metadata": {
  "kernelspec": {
   "display_name": "Python 3",
   "language": "python",
   "name": "python3"
  },
  "language_info": {
   "codemirror_mode": {
    "name": "ipython",
    "version": 3
   },
   "file_extension": ".py",
   "mimetype": "text/x-python",
   "name": "python",
   "nbconvert_exporter": "python",
   "pygments_lexer": "ipython3",
   "version": "3.8.8"
  }
 },
 "nbformat": 4,
 "nbformat_minor": 5
}
